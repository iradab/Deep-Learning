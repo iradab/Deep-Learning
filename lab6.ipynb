{
  "nbformat": 4,
  "nbformat_minor": 0,
  "metadata": {
    "anaconda-cloud": {},
    "kernelspec": {
      "display_name": "Python 3",
      "language": "python",
      "name": "python3"
    },
    "language_info": {
      "codemirror_mode": {
        "name": "ipython",
        "version": 3
      },
      "file_extension": ".py",
      "mimetype": "text/x-python",
      "name": "python",
      "nbconvert_exporter": "python",
      "pygments_lexer": "ipython3",
      "version": "3.9.1"
    },
    "colab": {
      "name": "lab6_Irada_Bunyatova.ipynb",
      "provenance": [],
      "collapsed_sections": []
    },
    "widgets": {
      "application/vnd.jupyter.widget-state+json": {
        "acfe69019334466991756870db69c5c8": {
          "model_module": "@jupyter-widgets/controls",
          "model_name": "HBoxModel",
          "model_module_version": "1.5.0",
          "state": {
            "_view_name": "HBoxView",
            "_dom_classes": [],
            "_model_name": "HBoxModel",
            "_view_module": "@jupyter-widgets/controls",
            "_model_module_version": "1.5.0",
            "_view_count": null,
            "_view_module_version": "1.5.0",
            "box_style": "",
            "layout": "IPY_MODEL_845b7478cc5649f2a8419478e9b8b272",
            "_model_module": "@jupyter-widgets/controls",
            "children": [
              "IPY_MODEL_f1dec634586542a9924b4d7ba86bde35",
              "IPY_MODEL_d4a04014142e48e1903bc292d76a17be",
              "IPY_MODEL_be5c7b4e25cb4a51abb8cd1d767e6075"
            ]
          }
        },
        "845b7478cc5649f2a8419478e9b8b272": {
          "model_module": "@jupyter-widgets/base",
          "model_name": "LayoutModel",
          "model_module_version": "1.2.0",
          "state": {
            "_view_name": "LayoutView",
            "grid_template_rows": null,
            "right": null,
            "justify_content": null,
            "_view_module": "@jupyter-widgets/base",
            "overflow": null,
            "_model_module_version": "1.2.0",
            "_view_count": null,
            "flex_flow": null,
            "width": null,
            "min_width": null,
            "border": null,
            "align_items": null,
            "bottom": null,
            "_model_module": "@jupyter-widgets/base",
            "top": null,
            "grid_column": null,
            "overflow_y": null,
            "overflow_x": null,
            "grid_auto_flow": null,
            "grid_area": null,
            "grid_template_columns": null,
            "flex": null,
            "_model_name": "LayoutModel",
            "justify_items": null,
            "grid_row": null,
            "max_height": null,
            "align_content": null,
            "visibility": null,
            "align_self": null,
            "height": null,
            "min_height": null,
            "padding": null,
            "grid_auto_rows": null,
            "grid_gap": null,
            "max_width": null,
            "order": null,
            "_view_module_version": "1.2.0",
            "grid_template_areas": null,
            "object_position": null,
            "object_fit": null,
            "grid_auto_columns": null,
            "margin": null,
            "display": null,
            "left": null
          }
        },
        "f1dec634586542a9924b4d7ba86bde35": {
          "model_module": "@jupyter-widgets/controls",
          "model_name": "HTMLModel",
          "model_module_version": "1.5.0",
          "state": {
            "_view_name": "HTMLView",
            "style": "IPY_MODEL_25973eef15994e8c979b41b9181e9467",
            "_dom_classes": [],
            "description": "",
            "_model_name": "HTMLModel",
            "placeholder": "​",
            "_view_module": "@jupyter-widgets/controls",
            "_model_module_version": "1.5.0",
            "value": "",
            "_view_count": null,
            "_view_module_version": "1.5.0",
            "description_tooltip": null,
            "_model_module": "@jupyter-widgets/controls",
            "layout": "IPY_MODEL_b4e28e53db9d4feba92104b2e190f4f7"
          }
        },
        "d4a04014142e48e1903bc292d76a17be": {
          "model_module": "@jupyter-widgets/controls",
          "model_name": "FloatProgressModel",
          "model_module_version": "1.5.0",
          "state": {
            "_view_name": "ProgressView",
            "style": "IPY_MODEL_7a7b76f8144a45ae8f5f9ed88d5aa756",
            "_dom_classes": [],
            "description": "",
            "_model_name": "FloatProgressModel",
            "bar_style": "success",
            "max": 9912422,
            "_view_module": "@jupyter-widgets/controls",
            "_model_module_version": "1.5.0",
            "value": 9912422,
            "_view_count": null,
            "_view_module_version": "1.5.0",
            "orientation": "horizontal",
            "min": 0,
            "description_tooltip": null,
            "_model_module": "@jupyter-widgets/controls",
            "layout": "IPY_MODEL_3eb55949159046c0b49ccd1d915b0561"
          }
        },
        "be5c7b4e25cb4a51abb8cd1d767e6075": {
          "model_module": "@jupyter-widgets/controls",
          "model_name": "HTMLModel",
          "model_module_version": "1.5.0",
          "state": {
            "_view_name": "HTMLView",
            "style": "IPY_MODEL_5a74a0c246b047b1a65f45c21cbb4246",
            "_dom_classes": [],
            "description": "",
            "_model_name": "HTMLModel",
            "placeholder": "​",
            "_view_module": "@jupyter-widgets/controls",
            "_model_module_version": "1.5.0",
            "value": " 9913344/? [00:00&lt;00:00, 12758535.05it/s]",
            "_view_count": null,
            "_view_module_version": "1.5.0",
            "description_tooltip": null,
            "_model_module": "@jupyter-widgets/controls",
            "layout": "IPY_MODEL_1a303f8e8f0842b6a89fa52e7e708959"
          }
        },
        "25973eef15994e8c979b41b9181e9467": {
          "model_module": "@jupyter-widgets/controls",
          "model_name": "DescriptionStyleModel",
          "model_module_version": "1.5.0",
          "state": {
            "_view_name": "StyleView",
            "_model_name": "DescriptionStyleModel",
            "description_width": "",
            "_view_module": "@jupyter-widgets/base",
            "_model_module_version": "1.5.0",
            "_view_count": null,
            "_view_module_version": "1.2.0",
            "_model_module": "@jupyter-widgets/controls"
          }
        },
        "b4e28e53db9d4feba92104b2e190f4f7": {
          "model_module": "@jupyter-widgets/base",
          "model_name": "LayoutModel",
          "model_module_version": "1.2.0",
          "state": {
            "_view_name": "LayoutView",
            "grid_template_rows": null,
            "right": null,
            "justify_content": null,
            "_view_module": "@jupyter-widgets/base",
            "overflow": null,
            "_model_module_version": "1.2.0",
            "_view_count": null,
            "flex_flow": null,
            "width": null,
            "min_width": null,
            "border": null,
            "align_items": null,
            "bottom": null,
            "_model_module": "@jupyter-widgets/base",
            "top": null,
            "grid_column": null,
            "overflow_y": null,
            "overflow_x": null,
            "grid_auto_flow": null,
            "grid_area": null,
            "grid_template_columns": null,
            "flex": null,
            "_model_name": "LayoutModel",
            "justify_items": null,
            "grid_row": null,
            "max_height": null,
            "align_content": null,
            "visibility": null,
            "align_self": null,
            "height": null,
            "min_height": null,
            "padding": null,
            "grid_auto_rows": null,
            "grid_gap": null,
            "max_width": null,
            "order": null,
            "_view_module_version": "1.2.0",
            "grid_template_areas": null,
            "object_position": null,
            "object_fit": null,
            "grid_auto_columns": null,
            "margin": null,
            "display": null,
            "left": null
          }
        },
        "7a7b76f8144a45ae8f5f9ed88d5aa756": {
          "model_module": "@jupyter-widgets/controls",
          "model_name": "ProgressStyleModel",
          "model_module_version": "1.5.0",
          "state": {
            "_view_name": "StyleView",
            "_model_name": "ProgressStyleModel",
            "description_width": "",
            "_view_module": "@jupyter-widgets/base",
            "_model_module_version": "1.5.0",
            "_view_count": null,
            "_view_module_version": "1.2.0",
            "bar_color": null,
            "_model_module": "@jupyter-widgets/controls"
          }
        },
        "3eb55949159046c0b49ccd1d915b0561": {
          "model_module": "@jupyter-widgets/base",
          "model_name": "LayoutModel",
          "model_module_version": "1.2.0",
          "state": {
            "_view_name": "LayoutView",
            "grid_template_rows": null,
            "right": null,
            "justify_content": null,
            "_view_module": "@jupyter-widgets/base",
            "overflow": null,
            "_model_module_version": "1.2.0",
            "_view_count": null,
            "flex_flow": null,
            "width": null,
            "min_width": null,
            "border": null,
            "align_items": null,
            "bottom": null,
            "_model_module": "@jupyter-widgets/base",
            "top": null,
            "grid_column": null,
            "overflow_y": null,
            "overflow_x": null,
            "grid_auto_flow": null,
            "grid_area": null,
            "grid_template_columns": null,
            "flex": null,
            "_model_name": "LayoutModel",
            "justify_items": null,
            "grid_row": null,
            "max_height": null,
            "align_content": null,
            "visibility": null,
            "align_self": null,
            "height": null,
            "min_height": null,
            "padding": null,
            "grid_auto_rows": null,
            "grid_gap": null,
            "max_width": null,
            "order": null,
            "_view_module_version": "1.2.0",
            "grid_template_areas": null,
            "object_position": null,
            "object_fit": null,
            "grid_auto_columns": null,
            "margin": null,
            "display": null,
            "left": null
          }
        },
        "5a74a0c246b047b1a65f45c21cbb4246": {
          "model_module": "@jupyter-widgets/controls",
          "model_name": "DescriptionStyleModel",
          "model_module_version": "1.5.0",
          "state": {
            "_view_name": "StyleView",
            "_model_name": "DescriptionStyleModel",
            "description_width": "",
            "_view_module": "@jupyter-widgets/base",
            "_model_module_version": "1.5.0",
            "_view_count": null,
            "_view_module_version": "1.2.0",
            "_model_module": "@jupyter-widgets/controls"
          }
        },
        "1a303f8e8f0842b6a89fa52e7e708959": {
          "model_module": "@jupyter-widgets/base",
          "model_name": "LayoutModel",
          "model_module_version": "1.2.0",
          "state": {
            "_view_name": "LayoutView",
            "grid_template_rows": null,
            "right": null,
            "justify_content": null,
            "_view_module": "@jupyter-widgets/base",
            "overflow": null,
            "_model_module_version": "1.2.0",
            "_view_count": null,
            "flex_flow": null,
            "width": null,
            "min_width": null,
            "border": null,
            "align_items": null,
            "bottom": null,
            "_model_module": "@jupyter-widgets/base",
            "top": null,
            "grid_column": null,
            "overflow_y": null,
            "overflow_x": null,
            "grid_auto_flow": null,
            "grid_area": null,
            "grid_template_columns": null,
            "flex": null,
            "_model_name": "LayoutModel",
            "justify_items": null,
            "grid_row": null,
            "max_height": null,
            "align_content": null,
            "visibility": null,
            "align_self": null,
            "height": null,
            "min_height": null,
            "padding": null,
            "grid_auto_rows": null,
            "grid_gap": null,
            "max_width": null,
            "order": null,
            "_view_module_version": "1.2.0",
            "grid_template_areas": null,
            "object_position": null,
            "object_fit": null,
            "grid_auto_columns": null,
            "margin": null,
            "display": null,
            "left": null
          }
        },
        "692dbfbf96f5487d87439eb957c30cc2": {
          "model_module": "@jupyter-widgets/controls",
          "model_name": "HBoxModel",
          "model_module_version": "1.5.0",
          "state": {
            "_view_name": "HBoxView",
            "_dom_classes": [],
            "_model_name": "HBoxModel",
            "_view_module": "@jupyter-widgets/controls",
            "_model_module_version": "1.5.0",
            "_view_count": null,
            "_view_module_version": "1.5.0",
            "box_style": "",
            "layout": "IPY_MODEL_7be400d787b943b2b6e519754ed0fcc8",
            "_model_module": "@jupyter-widgets/controls",
            "children": [
              "IPY_MODEL_27a30ccd3148476092e0dac7b7d7722c",
              "IPY_MODEL_3eef8ac80065428b9849ec60ec5622ba",
              "IPY_MODEL_0d7dc8732dc14fe585d2e254362acf93"
            ]
          }
        },
        "7be400d787b943b2b6e519754ed0fcc8": {
          "model_module": "@jupyter-widgets/base",
          "model_name": "LayoutModel",
          "model_module_version": "1.2.0",
          "state": {
            "_view_name": "LayoutView",
            "grid_template_rows": null,
            "right": null,
            "justify_content": null,
            "_view_module": "@jupyter-widgets/base",
            "overflow": null,
            "_model_module_version": "1.2.0",
            "_view_count": null,
            "flex_flow": null,
            "width": null,
            "min_width": null,
            "border": null,
            "align_items": null,
            "bottom": null,
            "_model_module": "@jupyter-widgets/base",
            "top": null,
            "grid_column": null,
            "overflow_y": null,
            "overflow_x": null,
            "grid_auto_flow": null,
            "grid_area": null,
            "grid_template_columns": null,
            "flex": null,
            "_model_name": "LayoutModel",
            "justify_items": null,
            "grid_row": null,
            "max_height": null,
            "align_content": null,
            "visibility": null,
            "align_self": null,
            "height": null,
            "min_height": null,
            "padding": null,
            "grid_auto_rows": null,
            "grid_gap": null,
            "max_width": null,
            "order": null,
            "_view_module_version": "1.2.0",
            "grid_template_areas": null,
            "object_position": null,
            "object_fit": null,
            "grid_auto_columns": null,
            "margin": null,
            "display": null,
            "left": null
          }
        },
        "27a30ccd3148476092e0dac7b7d7722c": {
          "model_module": "@jupyter-widgets/controls",
          "model_name": "HTMLModel",
          "model_module_version": "1.5.0",
          "state": {
            "_view_name": "HTMLView",
            "style": "IPY_MODEL_b37e226ff8ac43a3b9d88078506c9140",
            "_dom_classes": [],
            "description": "",
            "_model_name": "HTMLModel",
            "placeholder": "​",
            "_view_module": "@jupyter-widgets/controls",
            "_model_module_version": "1.5.0",
            "value": "",
            "_view_count": null,
            "_view_module_version": "1.5.0",
            "description_tooltip": null,
            "_model_module": "@jupyter-widgets/controls",
            "layout": "IPY_MODEL_0ffea10c577142d39e86da724bdc4b57"
          }
        },
        "3eef8ac80065428b9849ec60ec5622ba": {
          "model_module": "@jupyter-widgets/controls",
          "model_name": "FloatProgressModel",
          "model_module_version": "1.5.0",
          "state": {
            "_view_name": "ProgressView",
            "style": "IPY_MODEL_a9b6ce714cae4909817fe1cc43a9083d",
            "_dom_classes": [],
            "description": "",
            "_model_name": "FloatProgressModel",
            "bar_style": "success",
            "max": 28881,
            "_view_module": "@jupyter-widgets/controls",
            "_model_module_version": "1.5.0",
            "value": 28881,
            "_view_count": null,
            "_view_module_version": "1.5.0",
            "orientation": "horizontal",
            "min": 0,
            "description_tooltip": null,
            "_model_module": "@jupyter-widgets/controls",
            "layout": "IPY_MODEL_160561e37d0c4abe8b08e22d7b24a0d4"
          }
        },
        "0d7dc8732dc14fe585d2e254362acf93": {
          "model_module": "@jupyter-widgets/controls",
          "model_name": "HTMLModel",
          "model_module_version": "1.5.0",
          "state": {
            "_view_name": "HTMLView",
            "style": "IPY_MODEL_1a8ccff5a6db47e5be765406623f26eb",
            "_dom_classes": [],
            "description": "",
            "_model_name": "HTMLModel",
            "placeholder": "​",
            "_view_module": "@jupyter-widgets/controls",
            "_model_module_version": "1.5.0",
            "value": " 29696/? [00:00&lt;00:00, 845087.40it/s]",
            "_view_count": null,
            "_view_module_version": "1.5.0",
            "description_tooltip": null,
            "_model_module": "@jupyter-widgets/controls",
            "layout": "IPY_MODEL_f3808f10957a44e8a1291bb6f8abb881"
          }
        },
        "b37e226ff8ac43a3b9d88078506c9140": {
          "model_module": "@jupyter-widgets/controls",
          "model_name": "DescriptionStyleModel",
          "model_module_version": "1.5.0",
          "state": {
            "_view_name": "StyleView",
            "_model_name": "DescriptionStyleModel",
            "description_width": "",
            "_view_module": "@jupyter-widgets/base",
            "_model_module_version": "1.5.0",
            "_view_count": null,
            "_view_module_version": "1.2.0",
            "_model_module": "@jupyter-widgets/controls"
          }
        },
        "0ffea10c577142d39e86da724bdc4b57": {
          "model_module": "@jupyter-widgets/base",
          "model_name": "LayoutModel",
          "model_module_version": "1.2.0",
          "state": {
            "_view_name": "LayoutView",
            "grid_template_rows": null,
            "right": null,
            "justify_content": null,
            "_view_module": "@jupyter-widgets/base",
            "overflow": null,
            "_model_module_version": "1.2.0",
            "_view_count": null,
            "flex_flow": null,
            "width": null,
            "min_width": null,
            "border": null,
            "align_items": null,
            "bottom": null,
            "_model_module": "@jupyter-widgets/base",
            "top": null,
            "grid_column": null,
            "overflow_y": null,
            "overflow_x": null,
            "grid_auto_flow": null,
            "grid_area": null,
            "grid_template_columns": null,
            "flex": null,
            "_model_name": "LayoutModel",
            "justify_items": null,
            "grid_row": null,
            "max_height": null,
            "align_content": null,
            "visibility": null,
            "align_self": null,
            "height": null,
            "min_height": null,
            "padding": null,
            "grid_auto_rows": null,
            "grid_gap": null,
            "max_width": null,
            "order": null,
            "_view_module_version": "1.2.0",
            "grid_template_areas": null,
            "object_position": null,
            "object_fit": null,
            "grid_auto_columns": null,
            "margin": null,
            "display": null,
            "left": null
          }
        },
        "a9b6ce714cae4909817fe1cc43a9083d": {
          "model_module": "@jupyter-widgets/controls",
          "model_name": "ProgressStyleModel",
          "model_module_version": "1.5.0",
          "state": {
            "_view_name": "StyleView",
            "_model_name": "ProgressStyleModel",
            "description_width": "",
            "_view_module": "@jupyter-widgets/base",
            "_model_module_version": "1.5.0",
            "_view_count": null,
            "_view_module_version": "1.2.0",
            "bar_color": null,
            "_model_module": "@jupyter-widgets/controls"
          }
        },
        "160561e37d0c4abe8b08e22d7b24a0d4": {
          "model_module": "@jupyter-widgets/base",
          "model_name": "LayoutModel",
          "model_module_version": "1.2.0",
          "state": {
            "_view_name": "LayoutView",
            "grid_template_rows": null,
            "right": null,
            "justify_content": null,
            "_view_module": "@jupyter-widgets/base",
            "overflow": null,
            "_model_module_version": "1.2.0",
            "_view_count": null,
            "flex_flow": null,
            "width": null,
            "min_width": null,
            "border": null,
            "align_items": null,
            "bottom": null,
            "_model_module": "@jupyter-widgets/base",
            "top": null,
            "grid_column": null,
            "overflow_y": null,
            "overflow_x": null,
            "grid_auto_flow": null,
            "grid_area": null,
            "grid_template_columns": null,
            "flex": null,
            "_model_name": "LayoutModel",
            "justify_items": null,
            "grid_row": null,
            "max_height": null,
            "align_content": null,
            "visibility": null,
            "align_self": null,
            "height": null,
            "min_height": null,
            "padding": null,
            "grid_auto_rows": null,
            "grid_gap": null,
            "max_width": null,
            "order": null,
            "_view_module_version": "1.2.0",
            "grid_template_areas": null,
            "object_position": null,
            "object_fit": null,
            "grid_auto_columns": null,
            "margin": null,
            "display": null,
            "left": null
          }
        },
        "1a8ccff5a6db47e5be765406623f26eb": {
          "model_module": "@jupyter-widgets/controls",
          "model_name": "DescriptionStyleModel",
          "model_module_version": "1.5.0",
          "state": {
            "_view_name": "StyleView",
            "_model_name": "DescriptionStyleModel",
            "description_width": "",
            "_view_module": "@jupyter-widgets/base",
            "_model_module_version": "1.5.0",
            "_view_count": null,
            "_view_module_version": "1.2.0",
            "_model_module": "@jupyter-widgets/controls"
          }
        },
        "f3808f10957a44e8a1291bb6f8abb881": {
          "model_module": "@jupyter-widgets/base",
          "model_name": "LayoutModel",
          "model_module_version": "1.2.0",
          "state": {
            "_view_name": "LayoutView",
            "grid_template_rows": null,
            "right": null,
            "justify_content": null,
            "_view_module": "@jupyter-widgets/base",
            "overflow": null,
            "_model_module_version": "1.2.0",
            "_view_count": null,
            "flex_flow": null,
            "width": null,
            "min_width": null,
            "border": null,
            "align_items": null,
            "bottom": null,
            "_model_module": "@jupyter-widgets/base",
            "top": null,
            "grid_column": null,
            "overflow_y": null,
            "overflow_x": null,
            "grid_auto_flow": null,
            "grid_area": null,
            "grid_template_columns": null,
            "flex": null,
            "_model_name": "LayoutModel",
            "justify_items": null,
            "grid_row": null,
            "max_height": null,
            "align_content": null,
            "visibility": null,
            "align_self": null,
            "height": null,
            "min_height": null,
            "padding": null,
            "grid_auto_rows": null,
            "grid_gap": null,
            "max_width": null,
            "order": null,
            "_view_module_version": "1.2.0",
            "grid_template_areas": null,
            "object_position": null,
            "object_fit": null,
            "grid_auto_columns": null,
            "margin": null,
            "display": null,
            "left": null
          }
        },
        "541603fc322f44729ab78c2daa2f722e": {
          "model_module": "@jupyter-widgets/controls",
          "model_name": "HBoxModel",
          "model_module_version": "1.5.0",
          "state": {
            "_view_name": "HBoxView",
            "_dom_classes": [],
            "_model_name": "HBoxModel",
            "_view_module": "@jupyter-widgets/controls",
            "_model_module_version": "1.5.0",
            "_view_count": null,
            "_view_module_version": "1.5.0",
            "box_style": "",
            "layout": "IPY_MODEL_46d4ba378e894c6ca715bc7cedf5ccd9",
            "_model_module": "@jupyter-widgets/controls",
            "children": [
              "IPY_MODEL_75928e63ba9e4acf969329fe2df1b533",
              "IPY_MODEL_b217b35444dc42008bde3824c2ad24cc",
              "IPY_MODEL_5741ae001ee744afa2d93feed5a551b3"
            ]
          }
        },
        "46d4ba378e894c6ca715bc7cedf5ccd9": {
          "model_module": "@jupyter-widgets/base",
          "model_name": "LayoutModel",
          "model_module_version": "1.2.0",
          "state": {
            "_view_name": "LayoutView",
            "grid_template_rows": null,
            "right": null,
            "justify_content": null,
            "_view_module": "@jupyter-widgets/base",
            "overflow": null,
            "_model_module_version": "1.2.0",
            "_view_count": null,
            "flex_flow": null,
            "width": null,
            "min_width": null,
            "border": null,
            "align_items": null,
            "bottom": null,
            "_model_module": "@jupyter-widgets/base",
            "top": null,
            "grid_column": null,
            "overflow_y": null,
            "overflow_x": null,
            "grid_auto_flow": null,
            "grid_area": null,
            "grid_template_columns": null,
            "flex": null,
            "_model_name": "LayoutModel",
            "justify_items": null,
            "grid_row": null,
            "max_height": null,
            "align_content": null,
            "visibility": null,
            "align_self": null,
            "height": null,
            "min_height": null,
            "padding": null,
            "grid_auto_rows": null,
            "grid_gap": null,
            "max_width": null,
            "order": null,
            "_view_module_version": "1.2.0",
            "grid_template_areas": null,
            "object_position": null,
            "object_fit": null,
            "grid_auto_columns": null,
            "margin": null,
            "display": null,
            "left": null
          }
        },
        "75928e63ba9e4acf969329fe2df1b533": {
          "model_module": "@jupyter-widgets/controls",
          "model_name": "HTMLModel",
          "model_module_version": "1.5.0",
          "state": {
            "_view_name": "HTMLView",
            "style": "IPY_MODEL_a2ab65b8be184367946a04b5c7215b8f",
            "_dom_classes": [],
            "description": "",
            "_model_name": "HTMLModel",
            "placeholder": "​",
            "_view_module": "@jupyter-widgets/controls",
            "_model_module_version": "1.5.0",
            "value": "",
            "_view_count": null,
            "_view_module_version": "1.5.0",
            "description_tooltip": null,
            "_model_module": "@jupyter-widgets/controls",
            "layout": "IPY_MODEL_e21029f1d15c41e68f2392717a41d74d"
          }
        },
        "b217b35444dc42008bde3824c2ad24cc": {
          "model_module": "@jupyter-widgets/controls",
          "model_name": "FloatProgressModel",
          "model_module_version": "1.5.0",
          "state": {
            "_view_name": "ProgressView",
            "style": "IPY_MODEL_554b6697c9914797b8530b7f6b799749",
            "_dom_classes": [],
            "description": "",
            "_model_name": "FloatProgressModel",
            "bar_style": "success",
            "max": 1648877,
            "_view_module": "@jupyter-widgets/controls",
            "_model_module_version": "1.5.0",
            "value": 1648877,
            "_view_count": null,
            "_view_module_version": "1.5.0",
            "orientation": "horizontal",
            "min": 0,
            "description_tooltip": null,
            "_model_module": "@jupyter-widgets/controls",
            "layout": "IPY_MODEL_d9ea6d627a37433e99543c6cc062a0ee"
          }
        },
        "5741ae001ee744afa2d93feed5a551b3": {
          "model_module": "@jupyter-widgets/controls",
          "model_name": "HTMLModel",
          "model_module_version": "1.5.0",
          "state": {
            "_view_name": "HTMLView",
            "style": "IPY_MODEL_a3ec21a975a34be080fae8f36e43dd3f",
            "_dom_classes": [],
            "description": "",
            "_model_name": "HTMLModel",
            "placeholder": "​",
            "_view_module": "@jupyter-widgets/controls",
            "_model_module_version": "1.5.0",
            "value": " 1649664/? [00:00&lt;00:00, 17157929.19it/s]",
            "_view_count": null,
            "_view_module_version": "1.5.0",
            "description_tooltip": null,
            "_model_module": "@jupyter-widgets/controls",
            "layout": "IPY_MODEL_d4dd51cb5cae4e299f8419f7842be2e4"
          }
        },
        "a2ab65b8be184367946a04b5c7215b8f": {
          "model_module": "@jupyter-widgets/controls",
          "model_name": "DescriptionStyleModel",
          "model_module_version": "1.5.0",
          "state": {
            "_view_name": "StyleView",
            "_model_name": "DescriptionStyleModel",
            "description_width": "",
            "_view_module": "@jupyter-widgets/base",
            "_model_module_version": "1.5.0",
            "_view_count": null,
            "_view_module_version": "1.2.0",
            "_model_module": "@jupyter-widgets/controls"
          }
        },
        "e21029f1d15c41e68f2392717a41d74d": {
          "model_module": "@jupyter-widgets/base",
          "model_name": "LayoutModel",
          "model_module_version": "1.2.0",
          "state": {
            "_view_name": "LayoutView",
            "grid_template_rows": null,
            "right": null,
            "justify_content": null,
            "_view_module": "@jupyter-widgets/base",
            "overflow": null,
            "_model_module_version": "1.2.0",
            "_view_count": null,
            "flex_flow": null,
            "width": null,
            "min_width": null,
            "border": null,
            "align_items": null,
            "bottom": null,
            "_model_module": "@jupyter-widgets/base",
            "top": null,
            "grid_column": null,
            "overflow_y": null,
            "overflow_x": null,
            "grid_auto_flow": null,
            "grid_area": null,
            "grid_template_columns": null,
            "flex": null,
            "_model_name": "LayoutModel",
            "justify_items": null,
            "grid_row": null,
            "max_height": null,
            "align_content": null,
            "visibility": null,
            "align_self": null,
            "height": null,
            "min_height": null,
            "padding": null,
            "grid_auto_rows": null,
            "grid_gap": null,
            "max_width": null,
            "order": null,
            "_view_module_version": "1.2.0",
            "grid_template_areas": null,
            "object_position": null,
            "object_fit": null,
            "grid_auto_columns": null,
            "margin": null,
            "display": null,
            "left": null
          }
        },
        "554b6697c9914797b8530b7f6b799749": {
          "model_module": "@jupyter-widgets/controls",
          "model_name": "ProgressStyleModel",
          "model_module_version": "1.5.0",
          "state": {
            "_view_name": "StyleView",
            "_model_name": "ProgressStyleModel",
            "description_width": "",
            "_view_module": "@jupyter-widgets/base",
            "_model_module_version": "1.5.0",
            "_view_count": null,
            "_view_module_version": "1.2.0",
            "bar_color": null,
            "_model_module": "@jupyter-widgets/controls"
          }
        },
        "d9ea6d627a37433e99543c6cc062a0ee": {
          "model_module": "@jupyter-widgets/base",
          "model_name": "LayoutModel",
          "model_module_version": "1.2.0",
          "state": {
            "_view_name": "LayoutView",
            "grid_template_rows": null,
            "right": null,
            "justify_content": null,
            "_view_module": "@jupyter-widgets/base",
            "overflow": null,
            "_model_module_version": "1.2.0",
            "_view_count": null,
            "flex_flow": null,
            "width": null,
            "min_width": null,
            "border": null,
            "align_items": null,
            "bottom": null,
            "_model_module": "@jupyter-widgets/base",
            "top": null,
            "grid_column": null,
            "overflow_y": null,
            "overflow_x": null,
            "grid_auto_flow": null,
            "grid_area": null,
            "grid_template_columns": null,
            "flex": null,
            "_model_name": "LayoutModel",
            "justify_items": null,
            "grid_row": null,
            "max_height": null,
            "align_content": null,
            "visibility": null,
            "align_self": null,
            "height": null,
            "min_height": null,
            "padding": null,
            "grid_auto_rows": null,
            "grid_gap": null,
            "max_width": null,
            "order": null,
            "_view_module_version": "1.2.0",
            "grid_template_areas": null,
            "object_position": null,
            "object_fit": null,
            "grid_auto_columns": null,
            "margin": null,
            "display": null,
            "left": null
          }
        },
        "a3ec21a975a34be080fae8f36e43dd3f": {
          "model_module": "@jupyter-widgets/controls",
          "model_name": "DescriptionStyleModel",
          "model_module_version": "1.5.0",
          "state": {
            "_view_name": "StyleView",
            "_model_name": "DescriptionStyleModel",
            "description_width": "",
            "_view_module": "@jupyter-widgets/base",
            "_model_module_version": "1.5.0",
            "_view_count": null,
            "_view_module_version": "1.2.0",
            "_model_module": "@jupyter-widgets/controls"
          }
        },
        "d4dd51cb5cae4e299f8419f7842be2e4": {
          "model_module": "@jupyter-widgets/base",
          "model_name": "LayoutModel",
          "model_module_version": "1.2.0",
          "state": {
            "_view_name": "LayoutView",
            "grid_template_rows": null,
            "right": null,
            "justify_content": null,
            "_view_module": "@jupyter-widgets/base",
            "overflow": null,
            "_model_module_version": "1.2.0",
            "_view_count": null,
            "flex_flow": null,
            "width": null,
            "min_width": null,
            "border": null,
            "align_items": null,
            "bottom": null,
            "_model_module": "@jupyter-widgets/base",
            "top": null,
            "grid_column": null,
            "overflow_y": null,
            "overflow_x": null,
            "grid_auto_flow": null,
            "grid_area": null,
            "grid_template_columns": null,
            "flex": null,
            "_model_name": "LayoutModel",
            "justify_items": null,
            "grid_row": null,
            "max_height": null,
            "align_content": null,
            "visibility": null,
            "align_self": null,
            "height": null,
            "min_height": null,
            "padding": null,
            "grid_auto_rows": null,
            "grid_gap": null,
            "max_width": null,
            "order": null,
            "_view_module_version": "1.2.0",
            "grid_template_areas": null,
            "object_position": null,
            "object_fit": null,
            "grid_auto_columns": null,
            "margin": null,
            "display": null,
            "left": null
          }
        },
        "1e77bd91c8c14cbb9738a51463f751af": {
          "model_module": "@jupyter-widgets/controls",
          "model_name": "HBoxModel",
          "model_module_version": "1.5.0",
          "state": {
            "_view_name": "HBoxView",
            "_dom_classes": [],
            "_model_name": "HBoxModel",
            "_view_module": "@jupyter-widgets/controls",
            "_model_module_version": "1.5.0",
            "_view_count": null,
            "_view_module_version": "1.5.0",
            "box_style": "",
            "layout": "IPY_MODEL_920085eb081442ecbceeb9e914c52656",
            "_model_module": "@jupyter-widgets/controls",
            "children": [
              "IPY_MODEL_b36c36bc24df42c18ae448e6a5cb2884",
              "IPY_MODEL_4091b22c72b9439e94b07dbf831df2cc",
              "IPY_MODEL_864b4f487cc74a36baf4535e5fadcb5e"
            ]
          }
        },
        "920085eb081442ecbceeb9e914c52656": {
          "model_module": "@jupyter-widgets/base",
          "model_name": "LayoutModel",
          "model_module_version": "1.2.0",
          "state": {
            "_view_name": "LayoutView",
            "grid_template_rows": null,
            "right": null,
            "justify_content": null,
            "_view_module": "@jupyter-widgets/base",
            "overflow": null,
            "_model_module_version": "1.2.0",
            "_view_count": null,
            "flex_flow": null,
            "width": null,
            "min_width": null,
            "border": null,
            "align_items": null,
            "bottom": null,
            "_model_module": "@jupyter-widgets/base",
            "top": null,
            "grid_column": null,
            "overflow_y": null,
            "overflow_x": null,
            "grid_auto_flow": null,
            "grid_area": null,
            "grid_template_columns": null,
            "flex": null,
            "_model_name": "LayoutModel",
            "justify_items": null,
            "grid_row": null,
            "max_height": null,
            "align_content": null,
            "visibility": null,
            "align_self": null,
            "height": null,
            "min_height": null,
            "padding": null,
            "grid_auto_rows": null,
            "grid_gap": null,
            "max_width": null,
            "order": null,
            "_view_module_version": "1.2.0",
            "grid_template_areas": null,
            "object_position": null,
            "object_fit": null,
            "grid_auto_columns": null,
            "margin": null,
            "display": null,
            "left": null
          }
        },
        "b36c36bc24df42c18ae448e6a5cb2884": {
          "model_module": "@jupyter-widgets/controls",
          "model_name": "HTMLModel",
          "model_module_version": "1.5.0",
          "state": {
            "_view_name": "HTMLView",
            "style": "IPY_MODEL_6f7eabedf8bc44e097967e1e5d81d591",
            "_dom_classes": [],
            "description": "",
            "_model_name": "HTMLModel",
            "placeholder": "​",
            "_view_module": "@jupyter-widgets/controls",
            "_model_module_version": "1.5.0",
            "value": "",
            "_view_count": null,
            "_view_module_version": "1.5.0",
            "description_tooltip": null,
            "_model_module": "@jupyter-widgets/controls",
            "layout": "IPY_MODEL_5c3ed5c3a8b743b38cf9b062f28c7f7a"
          }
        },
        "4091b22c72b9439e94b07dbf831df2cc": {
          "model_module": "@jupyter-widgets/controls",
          "model_name": "FloatProgressModel",
          "model_module_version": "1.5.0",
          "state": {
            "_view_name": "ProgressView",
            "style": "IPY_MODEL_a48c58dc0c5a4a179d3e18e608f510e4",
            "_dom_classes": [],
            "description": "",
            "_model_name": "FloatProgressModel",
            "bar_style": "success",
            "max": 4542,
            "_view_module": "@jupyter-widgets/controls",
            "_model_module_version": "1.5.0",
            "value": 4542,
            "_view_count": null,
            "_view_module_version": "1.5.0",
            "orientation": "horizontal",
            "min": 0,
            "description_tooltip": null,
            "_model_module": "@jupyter-widgets/controls",
            "layout": "IPY_MODEL_04fbc60d951a4b14969724021f88ed78"
          }
        },
        "864b4f487cc74a36baf4535e5fadcb5e": {
          "model_module": "@jupyter-widgets/controls",
          "model_name": "HTMLModel",
          "model_module_version": "1.5.0",
          "state": {
            "_view_name": "HTMLView",
            "style": "IPY_MODEL_fce230bba047426e967513599262139d",
            "_dom_classes": [],
            "description": "",
            "_model_name": "HTMLModel",
            "placeholder": "​",
            "_view_module": "@jupyter-widgets/controls",
            "_model_module_version": "1.5.0",
            "value": " 5120/? [00:00&lt;00:00, 166879.10it/s]",
            "_view_count": null,
            "_view_module_version": "1.5.0",
            "description_tooltip": null,
            "_model_module": "@jupyter-widgets/controls",
            "layout": "IPY_MODEL_fe86976a0f154960b638c00298820c77"
          }
        },
        "6f7eabedf8bc44e097967e1e5d81d591": {
          "model_module": "@jupyter-widgets/controls",
          "model_name": "DescriptionStyleModel",
          "model_module_version": "1.5.0",
          "state": {
            "_view_name": "StyleView",
            "_model_name": "DescriptionStyleModel",
            "description_width": "",
            "_view_module": "@jupyter-widgets/base",
            "_model_module_version": "1.5.0",
            "_view_count": null,
            "_view_module_version": "1.2.0",
            "_model_module": "@jupyter-widgets/controls"
          }
        },
        "5c3ed5c3a8b743b38cf9b062f28c7f7a": {
          "model_module": "@jupyter-widgets/base",
          "model_name": "LayoutModel",
          "model_module_version": "1.2.0",
          "state": {
            "_view_name": "LayoutView",
            "grid_template_rows": null,
            "right": null,
            "justify_content": null,
            "_view_module": "@jupyter-widgets/base",
            "overflow": null,
            "_model_module_version": "1.2.0",
            "_view_count": null,
            "flex_flow": null,
            "width": null,
            "min_width": null,
            "border": null,
            "align_items": null,
            "bottom": null,
            "_model_module": "@jupyter-widgets/base",
            "top": null,
            "grid_column": null,
            "overflow_y": null,
            "overflow_x": null,
            "grid_auto_flow": null,
            "grid_area": null,
            "grid_template_columns": null,
            "flex": null,
            "_model_name": "LayoutModel",
            "justify_items": null,
            "grid_row": null,
            "max_height": null,
            "align_content": null,
            "visibility": null,
            "align_self": null,
            "height": null,
            "min_height": null,
            "padding": null,
            "grid_auto_rows": null,
            "grid_gap": null,
            "max_width": null,
            "order": null,
            "_view_module_version": "1.2.0",
            "grid_template_areas": null,
            "object_position": null,
            "object_fit": null,
            "grid_auto_columns": null,
            "margin": null,
            "display": null,
            "left": null
          }
        },
        "a48c58dc0c5a4a179d3e18e608f510e4": {
          "model_module": "@jupyter-widgets/controls",
          "model_name": "ProgressStyleModel",
          "model_module_version": "1.5.0",
          "state": {
            "_view_name": "StyleView",
            "_model_name": "ProgressStyleModel",
            "description_width": "",
            "_view_module": "@jupyter-widgets/base",
            "_model_module_version": "1.5.0",
            "_view_count": null,
            "_view_module_version": "1.2.0",
            "bar_color": null,
            "_model_module": "@jupyter-widgets/controls"
          }
        },
        "04fbc60d951a4b14969724021f88ed78": {
          "model_module": "@jupyter-widgets/base",
          "model_name": "LayoutModel",
          "model_module_version": "1.2.0",
          "state": {
            "_view_name": "LayoutView",
            "grid_template_rows": null,
            "right": null,
            "justify_content": null,
            "_view_module": "@jupyter-widgets/base",
            "overflow": null,
            "_model_module_version": "1.2.0",
            "_view_count": null,
            "flex_flow": null,
            "width": null,
            "min_width": null,
            "border": null,
            "align_items": null,
            "bottom": null,
            "_model_module": "@jupyter-widgets/base",
            "top": null,
            "grid_column": null,
            "overflow_y": null,
            "overflow_x": null,
            "grid_auto_flow": null,
            "grid_area": null,
            "grid_template_columns": null,
            "flex": null,
            "_model_name": "LayoutModel",
            "justify_items": null,
            "grid_row": null,
            "max_height": null,
            "align_content": null,
            "visibility": null,
            "align_self": null,
            "height": null,
            "min_height": null,
            "padding": null,
            "grid_auto_rows": null,
            "grid_gap": null,
            "max_width": null,
            "order": null,
            "_view_module_version": "1.2.0",
            "grid_template_areas": null,
            "object_position": null,
            "object_fit": null,
            "grid_auto_columns": null,
            "margin": null,
            "display": null,
            "left": null
          }
        },
        "fce230bba047426e967513599262139d": {
          "model_module": "@jupyter-widgets/controls",
          "model_name": "DescriptionStyleModel",
          "model_module_version": "1.5.0",
          "state": {
            "_view_name": "StyleView",
            "_model_name": "DescriptionStyleModel",
            "description_width": "",
            "_view_module": "@jupyter-widgets/base",
            "_model_module_version": "1.5.0",
            "_view_count": null,
            "_view_module_version": "1.2.0",
            "_model_module": "@jupyter-widgets/controls"
          }
        },
        "fe86976a0f154960b638c00298820c77": {
          "model_module": "@jupyter-widgets/base",
          "model_name": "LayoutModel",
          "model_module_version": "1.2.0",
          "state": {
            "_view_name": "LayoutView",
            "grid_template_rows": null,
            "right": null,
            "justify_content": null,
            "_view_module": "@jupyter-widgets/base",
            "overflow": null,
            "_model_module_version": "1.2.0",
            "_view_count": null,
            "flex_flow": null,
            "width": null,
            "min_width": null,
            "border": null,
            "align_items": null,
            "bottom": null,
            "_model_module": "@jupyter-widgets/base",
            "top": null,
            "grid_column": null,
            "overflow_y": null,
            "overflow_x": null,
            "grid_auto_flow": null,
            "grid_area": null,
            "grid_template_columns": null,
            "flex": null,
            "_model_name": "LayoutModel",
            "justify_items": null,
            "grid_row": null,
            "max_height": null,
            "align_content": null,
            "visibility": null,
            "align_self": null,
            "height": null,
            "min_height": null,
            "padding": null,
            "grid_auto_rows": null,
            "grid_gap": null,
            "max_width": null,
            "order": null,
            "_view_module_version": "1.2.0",
            "grid_template_areas": null,
            "object_position": null,
            "object_fit": null,
            "grid_auto_columns": null,
            "margin": null,
            "display": null,
            "left": null
          }
        }
      }
    }
  },
  "cells": [
    {
      "cell_type": "markdown",
      "metadata": {
        "id": "n23z7m_b16Uy"
      },
      "source": [
        "# Lab 6 - Autoencoders (graded lab)"
      ]
    },
    {
      "cell_type": "markdown",
      "metadata": {
        "id": "SDhzKkDu16U4"
      },
      "source": [
        "In this lab, you will get hands-on experience with dimension reduction techniques: Priciple Component Analysis and Autoencoders. The next lab will include a deep generative modelling technique: Variational Autoenceoders.  \n",
        "\n",
        "The goal of dimension reduction is to find a suitable transformation which converts a high dimensional space into a smaller feature space, such that the important information is not lost."
      ]
    },
    {
      "cell_type": "markdown",
      "metadata": {
        "id": "tNWKqJn-16U5"
      },
      "source": [
        "**Guidelines for the graded lab:**\n",
        "* The lab should be sent to marine.le-morvan@inria.fr before next Tuesday midnight.\n",
        "* Labs should be sent in html format (with all cells exectued).\n",
        "* Name your lab as lab6_yourname.html\n",
        "* Quality of the code and figures will be taken into account.\n",
        "* If you think something is weird in your results but you can't figure out why, you can add a comment on this.\n",
        "* This is a personal assignment. Therefore, there should not be inadequate similarities between your lab and someone else's lab."
      ]
    },
    {
      "cell_type": "markdown",
      "metadata": {
        "id": "c3KHbJ2-16U6"
      },
      "source": [
        "\n",
        "## Table of contents\n",
        "\n",
        "\n",
        "[1. PCA for dimension reduction](#pca)<br>\n",
        "[1.1 Some theory](#pca_some_theory)<br>\n",
        "[1.2 Applying SVD](#pca_applying_svd)<br>\n",
        "[1.3 Choosing the number of components to keep](#pca_chosing_nb_components)<br>\n",
        "[1.4 Reconstructing images](#pca_reconstructing_images)<br>\n",
        "\n",
        "[2. Autoencoders](#autoencoders)<br>\n",
        "[2.1 Linear Autoencoder](#autoencoders_linear)<br>\n",
        "[2.2 Nonlinear Autoencoder](#autoencoders_nonlinear)<br>\n",
        "[2.3 Comparing the reconstructed images](#autoencoders_comparing)<br>\n",
        "\n",
        "We will use the MNIST digits dataset throughout this exercise.  The MNIST dataset provides 60000 28x28=784 pixel grayscale training images of hand-written digits 0-9.  The images are labeled with integer values 0-9. In this exercise, we are not interested in classifying images of digits.  Instead, we are interested in transforming the 784-dimentional features into a smaller set of transformed coordinates. Throughout this lab, we will use Python and PyTorch."
      ]
    },
    {
      "cell_type": "markdown",
      "metadata": {
        "id": "zjQFzcgn16U7"
      },
      "source": [
        "**1) Load the MNIST dataset using the `torchvision`package. Scale the data into [0, 1]. Verify the structure of the training/test set and plot an image.**  "
      ]
    },
    {
      "cell_type": "code",
      "metadata": {
        "id": "N8McrmZA16U7"
      },
      "source": [
        "import torch\n",
        "import torchvision\n",
        "from sklearn.metrics import mean_squared_error\n",
        "import torchvision.datasets as datasets\n",
        "from torch.utils.data import DataLoader\n",
        "from torchvision.transforms import ToTensor\n",
        "import matplotlib.pyplot as plt\n",
        "import numpy as np"
      ],
      "execution_count": null,
      "outputs": []
    },
    {
      "cell_type": "code",
      "metadata": {
        "id": "2Ubm-DdI4JbY",
        "colab": {
          "base_uri": "https://localhost:8080/",
          "height": 414,
          "referenced_widgets": [
            "acfe69019334466991756870db69c5c8",
            "845b7478cc5649f2a8419478e9b8b272",
            "f1dec634586542a9924b4d7ba86bde35",
            "d4a04014142e48e1903bc292d76a17be",
            "be5c7b4e25cb4a51abb8cd1d767e6075",
            "25973eef15994e8c979b41b9181e9467",
            "b4e28e53db9d4feba92104b2e190f4f7",
            "7a7b76f8144a45ae8f5f9ed88d5aa756",
            "3eb55949159046c0b49ccd1d915b0561",
            "5a74a0c246b047b1a65f45c21cbb4246",
            "1a303f8e8f0842b6a89fa52e7e708959",
            "692dbfbf96f5487d87439eb957c30cc2",
            "7be400d787b943b2b6e519754ed0fcc8",
            "27a30ccd3148476092e0dac7b7d7722c",
            "3eef8ac80065428b9849ec60ec5622ba",
            "0d7dc8732dc14fe585d2e254362acf93",
            "b37e226ff8ac43a3b9d88078506c9140",
            "0ffea10c577142d39e86da724bdc4b57",
            "a9b6ce714cae4909817fe1cc43a9083d",
            "160561e37d0c4abe8b08e22d7b24a0d4",
            "1a8ccff5a6db47e5be765406623f26eb",
            "f3808f10957a44e8a1291bb6f8abb881",
            "541603fc322f44729ab78c2daa2f722e",
            "46d4ba378e894c6ca715bc7cedf5ccd9",
            "75928e63ba9e4acf969329fe2df1b533",
            "b217b35444dc42008bde3824c2ad24cc",
            "5741ae001ee744afa2d93feed5a551b3",
            "a2ab65b8be184367946a04b5c7215b8f",
            "e21029f1d15c41e68f2392717a41d74d",
            "554b6697c9914797b8530b7f6b799749",
            "d9ea6d627a37433e99543c6cc062a0ee",
            "a3ec21a975a34be080fae8f36e43dd3f",
            "d4dd51cb5cae4e299f8419f7842be2e4",
            "1e77bd91c8c14cbb9738a51463f751af",
            "920085eb081442ecbceeb9e914c52656",
            "b36c36bc24df42c18ae448e6a5cb2884",
            "4091b22c72b9439e94b07dbf831df2cc",
            "864b4f487cc74a36baf4535e5fadcb5e",
            "6f7eabedf8bc44e097967e1e5d81d591",
            "5c3ed5c3a8b743b38cf9b062f28c7f7a",
            "a48c58dc0c5a4a179d3e18e608f510e4",
            "04fbc60d951a4b14969724021f88ed78",
            "fce230bba047426e967513599262139d",
            "fe86976a0f154960b638c00298820c77"
          ]
        },
        "outputId": "ba4a1a65-f31d-49d9-c461-de26614a8b9b"
      },
      "source": [
        "train_data = datasets.MNIST(root='./data', train=True, download=True, transform=ToTensor())  # scaling data into [0,1] by using ToTensor\n",
        "test_data = datasets.MNIST(root='./data', train=False, download=True, transform=ToTensor())  # scaling data into [0,1] by using ToTensor"
      ],
      "execution_count": null,
      "outputs": [
        {
          "output_type": "stream",
          "name": "stdout",
          "text": [
            "Downloading http://yann.lecun.com/exdb/mnist/train-images-idx3-ubyte.gz\n",
            "Downloading http://yann.lecun.com/exdb/mnist/train-images-idx3-ubyte.gz to ./data/MNIST/raw/train-images-idx3-ubyte.gz\n"
          ]
        },
        {
          "output_type": "display_data",
          "data": {
            "application/vnd.jupyter.widget-view+json": {
              "model_id": "acfe69019334466991756870db69c5c8",
              "version_minor": 0,
              "version_major": 2
            },
            "text/plain": [
              "  0%|          | 0/9912422 [00:00<?, ?it/s]"
            ]
          },
          "metadata": {}
        },
        {
          "output_type": "stream",
          "name": "stdout",
          "text": [
            "Extracting ./data/MNIST/raw/train-images-idx3-ubyte.gz to ./data/MNIST/raw\n",
            "\n",
            "Downloading http://yann.lecun.com/exdb/mnist/train-labels-idx1-ubyte.gz\n",
            "Downloading http://yann.lecun.com/exdb/mnist/train-labels-idx1-ubyte.gz to ./data/MNIST/raw/train-labels-idx1-ubyte.gz\n"
          ]
        },
        {
          "output_type": "display_data",
          "data": {
            "application/vnd.jupyter.widget-view+json": {
              "model_id": "692dbfbf96f5487d87439eb957c30cc2",
              "version_minor": 0,
              "version_major": 2
            },
            "text/plain": [
              "  0%|          | 0/28881 [00:00<?, ?it/s]"
            ]
          },
          "metadata": {}
        },
        {
          "output_type": "stream",
          "name": "stdout",
          "text": [
            "Extracting ./data/MNIST/raw/train-labels-idx1-ubyte.gz to ./data/MNIST/raw\n",
            "\n",
            "Downloading http://yann.lecun.com/exdb/mnist/t10k-images-idx3-ubyte.gz\n",
            "Downloading http://yann.lecun.com/exdb/mnist/t10k-images-idx3-ubyte.gz to ./data/MNIST/raw/t10k-images-idx3-ubyte.gz\n"
          ]
        },
        {
          "output_type": "display_data",
          "data": {
            "application/vnd.jupyter.widget-view+json": {
              "model_id": "541603fc322f44729ab78c2daa2f722e",
              "version_minor": 0,
              "version_major": 2
            },
            "text/plain": [
              "  0%|          | 0/1648877 [00:00<?, ?it/s]"
            ]
          },
          "metadata": {}
        },
        {
          "output_type": "stream",
          "name": "stdout",
          "text": [
            "Extracting ./data/MNIST/raw/t10k-images-idx3-ubyte.gz to ./data/MNIST/raw\n",
            "\n",
            "Downloading http://yann.lecun.com/exdb/mnist/t10k-labels-idx1-ubyte.gz\n",
            "Downloading http://yann.lecun.com/exdb/mnist/t10k-labels-idx1-ubyte.gz to ./data/MNIST/raw/t10k-labels-idx1-ubyte.gz\n"
          ]
        },
        {
          "output_type": "display_data",
          "data": {
            "application/vnd.jupyter.widget-view+json": {
              "model_id": "1e77bd91c8c14cbb9738a51463f751af",
              "version_minor": 0,
              "version_major": 2
            },
            "text/plain": [
              "  0%|          | 0/4542 [00:00<?, ?it/s]"
            ]
          },
          "metadata": {}
        },
        {
          "output_type": "stream",
          "name": "stdout",
          "text": [
            "Extracting ./data/MNIST/raw/t10k-labels-idx1-ubyte.gz to ./data/MNIST/raw\n",
            "\n"
          ]
        }
      ]
    },
    {
      "cell_type": "code",
      "metadata": {
        "colab": {
          "base_uri": "https://localhost:8080/"
        },
        "id": "SZ_5xYMl5LyT",
        "outputId": "12b02b83-ceeb-4160-aaac-4907697378b4"
      },
      "source": [
        "print(\"Verifying the structure of training set\")\n",
        "print(\"Number of elements in train set: \",len(train_data))              \n",
        "print(\"Size of image in train set: \",train_data[0][0].size())     \n",
        "print(\"Type of label in train set: \",type(train_data[0][1]))            "
      ],
      "execution_count": null,
      "outputs": [
        {
          "output_type": "stream",
          "name": "stdout",
          "text": [
            "Verifying the structure of training set\n",
            "Number of elements in train set:  60000\n",
            "Size of image in train set:  torch.Size([1, 28, 28])\n",
            "Type of label in train set:  <class 'int'>\n"
          ]
        }
      ]
    },
    {
      "cell_type": "code",
      "metadata": {
        "colab": {
          "base_uri": "https://localhost:8080/"
        },
        "id": "QIMzb5g-5PZH",
        "outputId": "dd8ac8dc-d139-4731-e5e6-fa43c16ee88c"
      },
      "source": [
        "print(\"Verifying the structure of test set\")\n",
        "print(\"Number of elements in test set: \",len(test_data))              \n",
        "print(\"Size of image in test set: \",test_data[0][0].size())      \n",
        "print(\"Type of label in test set: \",type(test_data[0][1]))          "
      ],
      "execution_count": null,
      "outputs": [
        {
          "output_type": "stream",
          "name": "stdout",
          "text": [
            "Verifying the structure of test set\n",
            "Number of elements in test set:  10000\n",
            "Size of image in test set:  torch.Size([1, 28, 28])\n",
            "Type of label in test set:  <class 'int'>\n"
          ]
        }
      ]
    },
    {
      "cell_type": "code",
      "metadata": {
        "id": "QhBqIIpQ4j9t",
        "colab": {
          "base_uri": "https://localhost:8080/",
          "height": 315
        },
        "outputId": "b00b72d5-28cb-46e2-d071-f35fe936749d"
      },
      "source": [
        "print('Plotting an image from training data')\n",
        "img, label = train_data[0]\n",
        "print('The label is: ',label)\n",
        "plt.imshow(img.squeeze(), cmap=\"gray\")"
      ],
      "execution_count": null,
      "outputs": [
        {
          "output_type": "stream",
          "name": "stdout",
          "text": [
            "Plotting an image from training data\n",
            "The label is:  5\n"
          ]
        },
        {
          "output_type": "execute_result",
          "data": {
            "text/plain": [
              "<matplotlib.image.AxesImage at 0x7f87c5c88710>"
            ]
          },
          "metadata": {},
          "execution_count": 5
        },
        {
          "output_type": "display_data",
          "data": {
            "image/png": "[encoded data removed]",
            "text/plain": [
              "<Figure size 432x288 with 1 Axes>"
            ]
          },
          "metadata": {
            "needs_background": "light"
          }
        }
      ]
    },
    {
      "cell_type": "code",
      "metadata": {
        "colab": {
          "base_uri": "https://localhost:8080/",
          "height": 315
        },
        "id": "tILa_jp-r0TF",
        "outputId": "f019fe4a-5cc3-4e68-81ca-b2f0a6c051f5"
      },
      "source": [
        "print('Plotting an image from test data')\n",
        "img, label = test_data[0]\n",
        "print('The label is: ',label)\n",
        "plt.imshow(img.squeeze(), cmap=\"gray\")"
      ],
      "execution_count": null,
      "outputs": [
        {
          "output_type": "stream",
          "name": "stdout",
          "text": [
            "Plotting an image from test data\n",
            "The label is:  7\n"
          ]
        },
        {
          "output_type": "execute_result",
          "data": {
            "text/plain": [
              "<matplotlib.image.AxesImage at 0x7f87c57a3310>"
            ]
          },
          "metadata": {},
          "execution_count": 6
        },
        {
          "output_type": "display_data",
          "data": {
            "image/png": "[encoded data removed]",
            "text/plain": [
              "<Figure size 432x288 with 1 Axes>"
            ]
          },
          "metadata": {
            "needs_background": "light"
          }
        }
      ]
    },
    {
      "cell_type": "markdown",
      "metadata": {
        "id": "N8XIVR-B16U8"
      },
      "source": [
        "**2) Reshape the data into N x D tensors where N is the number of samples.**"
      ]
    },
    {
      "cell_type": "code",
      "metadata": {
        "id": "NMfFYEmbBF9N"
      },
      "source": [
        "train_dataloader = DataLoader(train_data, batch_size=len(train_data), shuffle=True)\n",
        "test_dataloader = DataLoader(test_data, batch_size = len(test_data), shuffle=True)"
      ],
      "execution_count": null,
      "outputs": []
    },
    {
      "cell_type": "code",
      "metadata": {
        "id": "xXnGi0UhBIHz"
      },
      "source": [
        "train_features, train_labels = next(iter(train_dataloader))\n",
        "test_features, test_labels = next(iter(test_dataloader))"
      ],
      "execution_count": null,
      "outputs": []
    },
    {
      "cell_type": "code",
      "metadata": {
        "id": "R2tiUNv8Edsw",
        "colab": {
          "base_uri": "https://localhost:8080/"
        },
        "outputId": "f916aaeb-6641-4717-a763-88b8db18a8ea"
      },
      "source": [
        "print(\"Reshaping data into N * 784 ...\")\n",
        "train_features = train_features.view(60000,-1)\n",
        "test_features = test_features.view(10000,-1)\n",
        "\n",
        "print('Checking size of obtained tensors: ')\n",
        "print(\"Shape of new train tensor: \",train_features.shape)\n",
        "print(\"Shape of new test tensor: \",test_features.shape)"
      ],
      "execution_count": null,
      "outputs": [
        {
          "output_type": "stream",
          "name": "stdout",
          "text": [
            "Reshaping data into N * 784 ...\n",
            "Checking size of obtained tensors: \n",
            "Shape of new train tensor:  torch.Size([60000, 784])\n",
            "Shape of new test tensor:  torch.Size([10000, 784])\n"
          ]
        }
      ]
    },
    {
      "cell_type": "markdown",
      "metadata": {
        "id": "ge6u2CgY16U-"
      },
      "source": [
        "## 1. Compressing images via PCA\n",
        "<a id='pca'></a>\n",
        "\n",
        "### 1.1 Some theory\n",
        "<a id='pca_some_theory'></a>\n",
        "\n",
        "### Principal Component Analysis\n",
        "\n",
        "The goal of PCA is to create new variables (principal components) that are linear combinations of original variables such that the set of observations, once projected onto this new set of variables, has the largest dispersion/variance/inertia. \n",
        "\n",
        "Let us consider a dataset $X\\in R^{n\\times p}$, where $n$ is the number of observations and $p$ the number of variables.  PCA transforms $X$ into a new coordinate system (new variable set), such that the greatest variance in the data is captured in the first coordinate, and then the second, and so on.  More specifically, the transformed coordinates $T \\in R^{n\\times p}$ are written as linear combinations of the original dataset,\n",
        "\n",
        "$$ T = X W, $$\n",
        "\n",
        "where $W \\in R^{p\\times p}$ is the transformation matrix.\n",
        "\n",
        "The expression of $W$ can be found as follows. Let $\\bar{x}$ be the mean vector for the samples in $X$. Let $u$ be a unit norm vector. The variance according to direction $u$ is given by:\n",
        "\\begin{align}\n",
        "    \\frac{1}{n} \\sum_{i=1}^n (x_i^\\top u - \\bar{x}^\\top u)^2 &= \\frac{1}{n} \\sum_{i=1}^n \\left[(x_i - \\bar{x})^\\top u\\right]^\\top (x_i - \\bar{x})^\\top u\\\\\n",
        "    &= u^\\top \\frac{1}{n} \\sum_{i=1}^n (x_i - \\bar{x}) (x_i - \\bar{x})^\\top u\\\\\n",
        "    &= u^\\top \\Sigma u\n",
        "\\end{align}\n",
        "where $\\Sigma$ is the estimated variance covariance matrix of $X$.\n",
        "\n",
        "Thus, the direction of maximum variance can be obtained by solving the following maximisation problem:\n",
        "$$\\underset{\\lVert u \\rVert = 1} \\max u^\\top \\Sigma u$$\n",
        "\n",
        "You can check that the solution to this problem is the largest eigenvector of $\\Sigma$, and that the corresponding maximum is its largest eigenvalue.\n",
        "\n",
        "The next principal components can be found by solving the same maximisation problem under the additional constraints that they should be orthogonal to previously found components. It can be shown by induction that the solutions to these problems are in fact the 2nd, 3rd, etc... eigenvectors of $\\Sigma$. \n",
        "\n",
        "Practically, the columns of $W$ are typically computed as the eigenvectors of the estimated covariance matrix ordered by their corresponding eigenvalues in descending order. Or, since the eigenvectors of the estimated covariance matrix are equal to the right singular vectors of the centered data, the columns of $W$ can be computed as the right singular vectors of the **centered data**.\n",
        "\n",
        "\n",
        "### Dimensionality Reduction\n",
        "\n",
        "We can reduce the dimensionality of our data by truncating the transformed variables to include only a subset of those variables with the highest variance.  For example, if we keep the first $L <= p$ variables, the reduced transformation reads\n",
        "\n",
        "$$ T_L = X W_L, $$\n",
        "\n",
        "where $W_L \\in R^{p\\times L}$ is the eigenvector matrix as before, but taking only the first $L$ columns.  This technique has been widely used to reduce the dimension of high-dimensionional datasets by accounting for the directions of largest variance in the data, while neglecting the other directions.  In addition, this can also be used to remove noise from a dataset, in which it is assumed that the noise is independent of all original variables. Finally, using PCA to find the 2 highest varying parameters can also allow us to visualize a high-dimensional dataset.  Let's do this now on the MNIST images.\n",
        "\n"
      ]
    },
    {
      "cell_type": "markdown",
      "metadata": {
        "id": "5qnr0__Q16U_"
      },
      "source": [
        "### 1.2 Applying SVD\n",
        "<a id='pca_applying_svd'></a>\n",
        "\n",
        "**3) Apply a SVD on the flattened MNIST images from the training set to recover the principal components. Project the data set onto the first two components. Plot this new data set of dimension two, using the labels of images as colors. Comment.**\n",
        "\n",
        "You can use `numpy.linalg.svd`. Plot only the first 1000 samples from the train set.\n",
        "Use `plt.cm.tab10` as colormap for yout plot."
      ]
    },
    {
      "cell_type": "code",
      "metadata": {
        "id": "pM-9vAax16U_"
      },
      "source": [
        "u, s, vh = np.linalg.svd(train_features, full_matrices = False) "
      ],
      "execution_count": null,
      "outputs": []
    },
    {
      "cell_type": "code",
      "metadata": {
        "id": "crZDJzv39lrg"
      },
      "source": [
        "new_coordinates_0 = np.dot(train_features[:1000], vh[0])  # projecting dataset on first component\n",
        "new_coordinates_1 = np.dot(train_features[:1000], vh[1])  # projecting dataset on second component"
      ],
      "execution_count": null,
      "outputs": []
    },
    {
      "cell_type": "code",
      "metadata": {
        "id": "RTqVPWnTLx-S",
        "colab": {
          "base_uri": "https://localhost:8080/",
          "height": 295
        },
        "outputId": "57b94fe6-5e99-4f99-e5ff-09d4478da52e"
      },
      "source": [
        "plt.title('Projection of dataset(first 1000) onto first two components')\n",
        "plt.xlabel('First component')\n",
        "plt.ylabel('Second component')\n",
        "\n",
        "plt.scatter(new_coordinates_0, new_coordinates_1, c = train_labels[:1000], cmap ='tab10')\n",
        "plt.colorbar()\n",
        "plt.show()"
      ],
      "execution_count": null,
      "outputs": [
        {
          "output_type": "display_data",
          "data": {
            "image/png": "[encoded data removed]",
            "text/plain": [
              "<Figure size 432x288 with 2 Axes>"
            ]
          },
          "metadata": {
            "needs_background": "light"
          }
        }
      ]
    },
    {
      "cell_type": "markdown",
      "metadata": {
        "id": "xq9OwkFkoujz"
      },
      "source": [
        "Comments on the plot: \n",
        "\n",
        "We can see by looking at the plotting above, that by projecting the dataset on first two components(thus using only the first 2 vectors) some grouping can be observed. For instance, the digits 0,1 are well grouped. The grouping of other labels is not ideal.  "
      ]
    },
    {
      "cell_type": "markdown",
      "metadata": {
        "id": "Jj_NoXo_16VA"
      },
      "source": [
        "### 1.3 Choosing the number of components to keep\n",
        "<a id='pca_chosing_nb_components'></a>\n",
        "\n",
        "It is not always clear how many principle components are necessary to accurately represent a high-dimensional space.  The most widely used method consists in plotting the variance associated to all previous components and to find the inflexion point in the curve, hence the name 'elbow rule'. \n",
        "\n",
        "**4) Using the elbow rule, give a number of components to keep for the MNIST data set.**"
      ]
    },
    {
      "cell_type": "code",
      "metadata": {
        "id": "jjIfrpyBRPSe"
      },
      "source": [
        "indices = [i for i in range(0,784)]"
      ],
      "execution_count": null,
      "outputs": []
    },
    {
      "cell_type": "code",
      "metadata": {
        "id": "1wqmzoOvqPU9"
      },
      "source": [
        "variances = np.zeros(784)\n",
        "sum = 0\n",
        "for i in range(0,784):\n",
        "    variances[i] = s[i]*s[i] + sum\n",
        "    sum = sum + s[i]*s[i]"
      ],
      "execution_count": null,
      "outputs": []
    },
    {
      "cell_type": "code",
      "metadata": {
        "colab": {
          "base_uri": "https://localhost:8080/",
          "height": 307
        },
        "id": "VCWmduaqqmpj",
        "outputId": "6f1c4287-94ab-457e-da23-9c2591425351"
      },
      "source": [
        "plt.xlabel('Number of components')\n",
        "plt.ylabel('Variance sum')\n",
        "plt.plot(indices,variances)"
      ],
      "execution_count": null,
      "outputs": [
        {
          "output_type": "execute_result",
          "data": {
            "text/plain": [
              "[<matplotlib.lines.Line2D at 0x7f87c4f87390>]"
            ]
          },
          "metadata": {},
          "execution_count": 15
        },
        {
          "output_type": "display_data",
          "data": {
            "image/png": "[encoded data removed]",
            "text/plain": [
              "<Figure size 432x288 with 1 Axes>"
            ]
          },
          "metadata": {
            "needs_background": "light"
          }
        }
      ]
    },
    {
      "cell_type": "code",
      "metadata": {
        "colab": {
          "base_uri": "https://localhost:8080/",
          "height": 296
        },
        "id": "DCyFwBUz16VA",
        "outputId": "4e04592f-094a-4ed1-b294-5ec0ddabfb10"
      },
      "source": [
        "plt.xlabel('Number of components')\n",
        "plt.ylabel('Eigenvalue')\n",
        "plt.plot(indices,s)"
      ],
      "execution_count": null,
      "outputs": [
        {
          "output_type": "execute_result",
          "data": {
            "text/plain": [
              "[<matplotlib.lines.Line2D at 0x7f87c4b65790>]"
            ]
          },
          "metadata": {},
          "execution_count": 16
        },
        {
          "output_type": "display_data",
          "data": {
            "image/png": "[encoded data removed]",
            "text/plain": [
              "<Figure size 432x288 with 1 Axes>"
            ]
          },
          "metadata": {
            "needs_background": "light"
          }
        }
      ]
    },
    {
      "cell_type": "markdown",
      "metadata": {
        "id": "E7b7U3XOr9D9"
      },
      "source": [
        "Comments: \n",
        "\n",
        "By looking at both of the above graphs, we can see that according to the elbow rule the inflexion point is around the number of components = 100. It means that 100 components should be kept for MNIST dataset."
      ]
    },
    {
      "cell_type": "markdown",
      "metadata": {
        "id": "YvR3LuBo16VB"
      },
      "source": [
        "### 1.4 Reconstructing Images\n",
        "<a id='pca_reconstructing_images'></a>\n",
        "\n",
        "Now that we have an idea of how many principle components are necessary, let's use them to encode the images in a smaller set of features, which we can then decode to reconstruct the images from the lower-dimensional space.  Recall that based on the PCA transformation, we can compute the reconstructed images with\n",
        "\n",
        "$$ \\hat{X} = (X W_L) W_L^T, $$\n",
        "\n",
        "where $W_L \\in R^{p\\times L}$."
      ]
    },
    {
      "cell_type": "markdown",
      "metadata": {
        "id": "Od18rVs316VC"
      },
      "source": [
        "**5) Create a 6x5 grid of images such that: $(i)$ the first row contains the first 5 images of the dataset, $(ii)$ the next 5 rows contain the corresponding reconstructed images using the first 2, 15, 30, 100 and 200 principle components.**"
      ]
    },
    {
      "cell_type": "code",
      "metadata": {
        "colab": {
          "base_uri": "https://localhost:8080/",
          "height": 746
        },
        "id": "WIcU-cWFtO79",
        "outputId": "ed292743-7282-45ae-ec40-78eee2f4a43e"
      },
      "source": [
        "xlabels = ['image 1','image 2','image 3','image 4','image 5']\n",
        "ylabels = ['original', 'L = 2', 'L = 15', 'L = 30', 'L = 100', 'L = 200']\n",
        "number_of_components = [0,2,15,30,100,200]\n",
        "fig, axs = plt.subplots(6,5, figsize=(8,10))\n",
        "\n",
        "for i in range(6):\n",
        "    axs[i,0].set_ylabel(ylabels[i], fontsize=16,fontweight='bold')\n",
        "    if i != 0:\n",
        "        k = number_of_components[i]\n",
        "        outp = np.matmul(np.matmul(train_features, vh[:k,:].T), vh[:k,:])\n",
        "    for j in range(5):\n",
        "        if i==0:\n",
        "            axs[i,j].set_title(xlabels[j], fontweight='bold')\n",
        "            axs[i,j].imshow(train_features[j].reshape(28,28), cmap=\"gray\")\n",
        "        else:\n",
        "            axs[i,j].imshow(outp[j].reshape(28,28), cmap=\"gray\")\n",
        "        axs[i,j].set_xticks([])\n",
        "        axs[i,j].set_yticks([])\n",
        "fig.tight_layout(pad=0)"
      ],
      "execution_count": null,
      "outputs": [
        {
          "output_type": "display_data",
          "data": {
            "image/png": "[encoded data removed]",
            "text/plain": [
              "<Figure size 576x720 with 30 Axes>"
            ]
          },
          "metadata": {}
        }
      ]
    },
    {
      "cell_type": "markdown",
      "metadata": {
        "id": "fMbTeFGM16VC"
      },
      "source": [
        "**6) Compute the MSE on the test set between the original and reconstruced images for each number of principal components.**  \n",
        "Present the results as a curve giving teh recinstruction MSE as a function of teh number of components."
      ]
    },
    {
      "cell_type": "code",
      "metadata": {
        "id": "_LZb6KFo16VD",
        "colab": {
          "base_uri": "https://localhost:8080/"
        },
        "outputId": "28c87365-9363-4f9b-b5a1-ea2d20c732f1"
      },
      "source": [
        "u_test, s_test, vh_test = np.linalg.svd(test_features, full_matrices = False) \n",
        "\n",
        "errors = []\n",
        "components_values = [x for x in range(1,784)]\n",
        "for k in range(1,784):\n",
        "    reconstructed_test = np.matmul(np.matmul(test_features, vh_test[:k,:].T), vh_test[:k,:])\n",
        "    errors.append(mean_squared_error(test_features, reconstructed_test))\n",
        "plt.xlabel(\"Number of components\")\n",
        "plt.ylabel(\"Value of MSE\")\n",
        "plt.plot(components_values,errors)"
      ],
      "execution_count": null,
      "outputs": [
        {
          "output_type": "execute_result",
          "data": {
            "text/plain": [
              "[<matplotlib.lines.Line2D at 0x7f87c5655850>]"
            ]
          },
          "metadata": {},
          "execution_count": 18
        },
        {
          "output_type": "display_data",
          "data": {
            "image/png": "[encoded data removed]",
            "text/plain": [
              "<Figure size 432x288 with 1 Axes>"
            ]
          },
          "metadata": {
            "needs_background": "light"
          }
        }
      ]
    },
    {
      "cell_type": "markdown",
      "metadata": {
        "id": "MIKAFjuR16VD"
      },
      "source": [
        "**Remark.** Note that once we have computed the transformation matrix $W$, we essentially have a compression scheme to convert our images into a compressed format.  From this perspective, using the first 5, 10, 30, and 100 principle components is equivalent to compressing the data at a rate of 156:1, 78:1, 26:1, and 8:1, respectively.  By contrast, JPEG image compression can obtain compression ratios of 23:1 with reasonable image quality, surpassing the quality of reconstructions with PCA.  For that reason, PCA is not really used for image compression, but it has been used in a number of other fields, particularly in physics and engineering."
      ]
    },
    {
      "cell_type": "markdown",
      "metadata": {
        "id": "juE6r7P916VD"
      },
      "source": [
        "## 2. Autoencoders\n",
        "<a id='autoencoders'></a>\n",
        "\n",
        "In this part, we will devise a compression strategy using another method, autoencoders.  Autoencoders are neural networks which are trained to output their input in such a way that they learn a reduced dimensional space of the input distribution.  Usually, they are composed of two distinct parts. The first one encodes the input space (encoder) and the second one decodes the encoded space back to the original feature space (decoder).  There are different types of autoencoders, among which:\n",
        "1. __Undercomplete autoencoders__ work by constructing a network whose intermerdiate layer (the layer between the encoder and decoder) has fewer nodes than the input and output layers.  After training, the smaller hidden layer will represent an encoding of the input onto a lower dimensional space.\n",
        "2. __Regularized autoencoders__ use various regularization terms in the loss function during training. For example, sparse autoencoders add a sparsity regularization term in the loss to force as many nodes in the hidden layers to be zero.\n",
        "3. __Variational autoencoders__ are very different.  In this case, the encoder learns parameters that model the distribution of the latent variables given the input variables. The decoder learns parameters of the input given the latent variables. Based on a random sample of the latent variable, the decoder can be used to generate new samples.  Some variational autoencoders have been used for image generation. \n",
        "\n",
        "In this exercise, we will construct two undercomplete autoencoders and train them on the MNIST data."
      ]
    },
    {
      "cell_type": "markdown",
      "metadata": {
        "id": "EFFW9tGm16VD"
      },
      "source": [
        "### 2.1 Linear autoencoder\n",
        "<a id='autoencoders_linear'></a>\n",
        "\n",
        "Consider an autoencoder with linear encoder and decoder, and a mean-squared-error loss function. \n",
        "\n",
        "**7) How is such a linear autoencoder related to PCA? What would be the latent subpace learned by a linear autoencoder?**"
      ]
    },
    {
      "cell_type": "code",
      "metadata": {
        "id": "KtXCDOXQ16VD"
      },
      "source": [
        "# Linear autoencoder is related to PCA as in Linear autoencoder we also reduce the number of features (from Input \n",
        "# layer to hidden layer the number of nodes decreases). \n",
        "# The latent subspace learned by a linear autoencoder is the hidden layer (between encoder and decoder) with reduced number of features."
      ],
      "execution_count": null,
      "outputs": []
    },
    {
      "cell_type": "markdown",
      "metadata": {
        "id": "tdaEqKrs16VD"
      },
      "source": [
        "Let's now implement a simple linear autoencoder."
      ]
    },
    {
      "cell_type": "markdown",
      "metadata": {
        "id": "TCq4MBk416VD"
      },
      "source": [
        "**8) Implement a linear autoencoder in PyTorch.**  \n",
        "For now, use a 2-dimensional latent space for visualization purposes."
      ]
    },
    {
      "cell_type": "code",
      "metadata": {
        "id": "arcm8uI_16VE"
      },
      "source": [
        "class LinearAutoencoder(torch.nn.Module):\n",
        "    def __init__(self, latent_space_size):\n",
        "        super().__init__()\n",
        "        self.encoder = torch.nn.Linear(784, latent_space_size)\n",
        "        self.decoder = torch.nn.Linear(latent_space_size, 784)\n",
        "\n",
        "    def forward(self, X):\n",
        "        return self.decoder(self.encoder(X))\n",
        "\n",
        "    def encode(self, X):\n",
        "        return self.encoder(X)"
      ],
      "execution_count": null,
      "outputs": []
    },
    {
      "cell_type": "markdown",
      "metadata": {
        "id": "aHaGpJHb16VE"
      },
      "source": [
        "**9) Train the linear autoencoder previsously implemented. Compare the MSE obtained on the train set compared to that obtained with PCA. Comment.**"
      ]
    },
    {
      "cell_type": "code",
      "metadata": {
        "id": "pz6pMfsgQ6RN"
      },
      "source": [
        "train_dataloader = DataLoader(train_data, batch_size=32, shuffle=True)\n",
        "test_dataloader = DataLoader(test_data, batch_size = 32, shuffle=True)"
      ],
      "execution_count": null,
      "outputs": []
    },
    {
      "cell_type": "code",
      "metadata": {
        "id": "gsFjGZbhgeiE",
        "colab": {
          "base_uri": "https://localhost:8080/"
        },
        "outputId": "7a8d3ed8-d020-4f55-d00f-cf7fb2c9ec8b"
      },
      "source": [
        "a = torch.tensor([1, 2, 3])\n",
        ">>> b = torch.tensor([4, 5, 6])\n",
        ">>> print(torch.column_stack((a, b)).shape)\n"
      ],
      "execution_count": null,
      "outputs": [
        {
          "output_type": "stream",
          "name": "stdout",
          "text": [
            "torch.Size([3, 2])\n"
          ]
        }
      ]
    },
    {
      "cell_type": "code",
      "metadata": {
        "id": "AsfuOg5xZ1E-"
      },
      "source": [
        "model = LinearAutoencoder(latent_space_size = 2)\n",
        "optimizer = torch.optim.Adam(model.parameters())\n",
        "loss_fn = torch.nn.MSELoss()"
      ],
      "execution_count": null,
      "outputs": []
    },
    {
      "cell_type": "code",
      "metadata": {
        "colab": {
          "base_uri": "https://localhost:8080/",
          "height": 296
        },
        "id": "zN0mRhqGXMbb",
        "outputId": "e9103bce-95ec-4c05-b9f6-8378fdcb5f4b"
      },
      "source": [
        "epochs = 5\n",
        "outputs = []\n",
        "losses = []\n",
        "loss_value = 0\n",
        "for epoch in range(0,epochs):\n",
        "    for (images, labels) in train_dataloader:\n",
        "        images = images.reshape(-1,784)\n",
        "        output_images = model(images)\n",
        "        loss = loss_fn(output_images,images)\n",
        "        print(loss)\n",
        "        losses.append(loss)\n",
        "        optimizer.zero_grad()\n",
        "        loss.backward()\n",
        "        optimizer.step()\n",
        "plt.xlabel('Number of iterations')\n",
        "plt.ylabel('Loss value')\n",
        "plt.plot(losses)\n"
      ],
      "execution_count": null,
      "outputs": [
        {
          "output_type": "execute_result",
          "data": {
            "text/plain": [
              "[<matplotlib.lines.Line2D at 0x7fd7f9f32350>]"
            ]
          },
          "metadata": {},
          "execution_count": 47
        },
        {
          "output_type": "display_data",
          "data": {
            "image/png": "[encoded data removed]",
            "text/plain": [
              "<Figure size 432x288 with 1 Axes>"
            ]
          },
          "metadata": {
            "needs_background": "light"
          }
        }
      ]
    },
    {
      "cell_type": "code",
      "metadata": {
        "colab": {
          "base_uri": "https://localhost:8080/"
        },
        "id": "Ysg7qoBM2Cm8",
        "outputId": "d0234be7-fad4-4341-eb10-4282c9796eed"
      },
      "source": [
        "print(\"Value of MSE loss for PCA with 2 components: \",errors[1])\n",
        "print(\"Value of MSE loss after 5 epochs of training Linear Autoencodes is \",losses[-1])"
      ],
      "execution_count": null,
      "outputs": [
        {
          "output_type": "stream",
          "name": "stdout",
          "text": [
            "Value of MSE loss for PCA with 2 components:  0.05763251\n",
            "Value of MSE loss after 5 epochs of training Linear Autoencodes is  tensor(0.0564, grad_fn=<MseLossBackward0>)\n"
          ]
        }
      ]
    },
    {
      "cell_type": "markdown",
      "metadata": {
        "id": "qqNIZSUe1yZ8"
      },
      "source": [
        "Comments :\n",
        "\n",
        "As can be seen from previous cell, the value of MSE loss for PCA with number of components = 2 is very similar to MSE loss after 5 epochs of training Linear Autoencodes. Since the MSE loss has become stable by theend of the iterations after 5 epochs, we can infer that the loss value will not decrease considerably - so we can say that the performance of PCA and Linear Autoencoder is identical."
      ]
    },
    {
      "cell_type": "markdown",
      "metadata": {
        "id": "Ch9bMwr716VE"
      },
      "source": [
        "**10) Plot the two latent variables in a scatter plot as we did for PCA (for the same choice of points). How does the scatter plot compare to the one you made with PCA?**"
      ]
    },
    {
      "cell_type": "code",
      "metadata": {
        "id": "DLcQoDLfaxw8"
      },
      "source": [
        "new_coordinates_LinearAE = model(train_features[:1000])"
      ],
      "execution_count": null,
      "outputs": []
    },
    {
      "cell_type": "code",
      "metadata": {
        "id": "KNtP_HMfbBbq"
      },
      "source": [
        "new_coordinates_LinearAE = new_coordinates_LinearAE.detach().numpy()"
      ],
      "execution_count": null,
      "outputs": []
    },
    {
      "cell_type": "code",
      "metadata": {
        "id": "d2x3Y6km16VF",
        "colab": {
          "base_uri": "https://localhost:8080/",
          "height": 295
        },
        "outputId": "23c30172-d528-4717-948e-5f139694207c"
      },
      "source": [
        "plt.title('Projection of dataset(first 1000) onto first two components (Linear Autoencoder)')\n",
        "plt.xlabel('First component')\n",
        "plt.ylabel('Second component')\n",
        "plt.scatter(new_coordinates_LinearAE[:,0], new_coordinates_LinearAE[:,1], c = train_labels[:1000], cmap ='tab10')\n",
        "plt.colorbar()\n",
        "plt.show()"
      ],
      "execution_count": null,
      "outputs": [
        {
          "output_type": "display_data",
          "data": {
            "image/png": "[encoded data removed]",
            "text/plain": [
              "<Figure size 432x288 with 2 Axes>"
            ]
          },
          "metadata": {
            "needs_background": "light"
          }
        }
      ]
    },
    {
      "cell_type": "code",
      "metadata": {
        "colab": {
          "base_uri": "https://localhost:8080/",
          "height": 295
        },
        "id": "rv36FWV-28B5",
        "outputId": "04f1cf11-0a44-41e8-98fa-30e5922c5bd4"
      },
      "source": [
        "plt.title('Projection of dataset(first 1000) onto first two components (PCA)')\n",
        "plt.xlabel('First component')\n",
        "plt.ylabel('Second component')\n",
        "\n",
        "plt.scatter(new_coordinates_0, new_coordinates_1, c = train_labels[:1000], cmap ='tab10')\n",
        "plt.colorbar()\n",
        "plt.show()"
      ],
      "execution_count": null,
      "outputs": [
        {
          "output_type": "display_data",
          "data": {
            "image/png": "[encoded data removed]",
            "text/plain": [
              "<Figure size 432x288 with 2 Axes>"
            ]
          },
          "metadata": {
            "needs_background": "light"
          }
        }
      ]
    },
    {
      "cell_type": "markdown",
      "metadata": {
        "id": "E2rYPQWY3XAE"
      },
      "source": [
        "Comments: \n",
        "\n",
        "by comparing the two scatter plots, it is possible to see that with Linear Autoencoder we were also able to achieve grouping of some labels. Again, we see that the digits 0,1 are well grouped using Linear Autoencoder(same for PCA). The grouping of other labels is not ideal."
      ]
    },
    {
      "cell_type": "markdown",
      "metadata": {
        "id": "dbuAU-2416VF"
      },
      "source": [
        "### 2.2 Nonlinear Autoencoder\n",
        "<a id='autoencoders_nonlinear'></a>\n",
        "\n",
        "We are now going to turn to non-linear autoencoders. By allowing nonlinear transformations, we should be able to increase the expressiveness of our latent space. \n",
        "\n",
        "\n",
        "**11) Create a nonlinear autoencoder of your choice, but still with a latent space of size 2. Train it.**"
      ]
    },
    {
      "cell_type": "code",
      "metadata": {
        "id": "zx4Q104Ae4Qz"
      },
      "source": [
        "train_dataloader = DataLoader(train_data, batch_size=32, shuffle=True)\n",
        "test_dataloader = DataLoader(test_data, batch_size = 32, shuffle=True)"
      ],
      "execution_count": null,
      "outputs": []
    },
    {
      "cell_type": "code",
      "metadata": {
        "id": "lALDl64D16VF"
      },
      "source": [
        "class NonLinearAutoencoder(torch.nn.Module):\n",
        "    def __init__(self, latent_space_size):\n",
        "        super().__init__()\n",
        "        self.encoder = torch.nn.Sequential(\n",
        "            torch.nn.Linear(784, 256),\n",
        "            torch.nn.ReLU(),\n",
        "            torch.nn.Linear(256, 128),\n",
        "            torch.nn.ReLU(),\n",
        "            torch.nn.Linear(128, 64),\n",
        "            torch.nn.ReLU(),\n",
        "            torch.nn.Linear(64, 32),\n",
        "            torch.nn.ReLU(),\n",
        "            torch.nn.Linear(32, latent_space_size)\n",
        "        )\n",
        "        self.decoder = torch.nn.Sequential(\n",
        "            torch.nn.Linear(latent_space_size, 32),\n",
        "            torch.nn.ReLU(),\n",
        "            torch.nn.Linear(32, 64),\n",
        "            torch.nn.ReLU(),\n",
        "            torch.nn.Linear(64, 128),\n",
        "            torch.nn.ReLU(),\n",
        "            torch.nn.Linear(128, 256),\n",
        "            torch.nn.ReLU(),\n",
        "            torch.nn.Linear(256, 784),\n",
        "            torch.nn.Sigmoid()\n",
        "        )\n",
        "\n",
        "    def forward(self, X):\n",
        "        return self.decoder(self.encoder(X))\n",
        "\n",
        "    def encode(self, X):\n",
        "        return self.encoder(X)"
      ],
      "execution_count": null,
      "outputs": []
    },
    {
      "cell_type": "code",
      "metadata": {
        "id": "JsWgAARfcZSa"
      },
      "source": [
        "model2 = NonLinearAutoencoder(latent_space_size = 2)\n",
        "optimizer2 = torch.optim.Adam(model2.parameters())\n",
        "loss_fn2 = torch.nn.MSELoss()"
      ],
      "execution_count": null,
      "outputs": []
    },
    {
      "cell_type": "code",
      "metadata": {
        "colab": {
          "base_uri": "https://localhost:8080/",
          "height": 296
        },
        "id": "JfNogcUUctbS",
        "outputId": "6bbd7705-4e90-43e2-aced-1b699fb75221"
      },
      "source": [
        "epochs = 5\n",
        "losses2 = []\n",
        "for epoch in range(epochs):\n",
        "    for (images, labels) in train_dataloader:\n",
        "        images = images.reshape(-1,784)\n",
        "        output_images = model2(images)\n",
        "        loss = loss_fn2(output_images,images)\n",
        "        losses2.append(loss)\n",
        "        optimizer2.zero_grad()\n",
        "        loss.backward()\n",
        "        optimizer2.step()\n",
        "\n",
        "\n",
        "plt.xlabel('Number of iterations')\n",
        "plt.ylabel('Loss value')\n",
        "plt.plot(losses2)"
      ],
      "execution_count": null,
      "outputs": [
        {
          "output_type": "execute_result",
          "data": {
            "text/plain": [
              "[<matplotlib.lines.Line2D at 0x7fd7fa06fd90>]"
            ]
          },
          "metadata": {},
          "execution_count": 56
        },
        {
          "output_type": "display_data",
          "data": {
            "image/png": "[encoded data removed]",
            "text/plain": [
              "<Figure size 432x288 with 1 Axes>"
            ]
          },
          "metadata": {
            "needs_background": "light"
          }
        }
      ]
    },
    {
      "cell_type": "markdown",
      "metadata": {
        "id": "MlY01Tkx16VF"
      },
      "source": [
        "**12) Plot the two latent variables in a scatter plot as we did for PCA (for the same choice of points). What can you say about the grouping of points using the nonlinear model?**"
      ]
    },
    {
      "cell_type": "code",
      "metadata": {
        "id": "vGY5Idzm16VG"
      },
      "source": [
        "new_coordinates_NonLinearAE = model2(train_features[:1000])\n",
        "new_coordinates_NonLinearAE = new_coordinates_NonLinearAE.detach().numpy()"
      ],
      "execution_count": null,
      "outputs": []
    },
    {
      "cell_type": "code",
      "metadata": {
        "colab": {
          "base_uri": "https://localhost:8080/",
          "height": 295
        },
        "id": "exhmJZWz4zYE",
        "outputId": "6d948db5-1d0d-4923-b437-30575505b256"
      },
      "source": [
        "plt.title('Projection of dataset(first 1000) onto first two components (NonLinear Autoencoder)')\n",
        "plt.xlabel('First component')\n",
        "plt.ylabel('Second component')\n",
        "plt.scatter(new_coordinates_NonLinearAE[:,0], new_coordinates_NonLinearAE[:,1], c = train_labels[:1000], cmap ='tab10')\n",
        "plt.colorbar()\n",
        "plt.show()"
      ],
      "execution_count": null,
      "outputs": [
        {
          "output_type": "display_data",
          "data": {
            "image/png": "[encoded data removed]",
            "text/plain": [
              "<Figure size 432x288 with 2 Axes>"
            ]
          },
          "metadata": {
            "needs_background": "light"
          }
        }
      ]
    },
    {
      "cell_type": "markdown",
      "metadata": {
        "id": "KoKYQojn5esh"
      },
      "source": [
        "Comments: \n",
        "The grouping of points using non-linear method doesn't seem to be grouping properly any of the labels. (Whereas for PCA and Linear Autoencoders the grouping was better)"
      ]
    },
    {
      "cell_type": "markdown",
      "metadata": {
        "id": "OX_SVfU216VG"
      },
      "source": [
        "### 2.3 Comparing the reconstructed images\n",
        "<a id='autoencoders_comparing'></a>\n",
        "\n",
        "\n",
        "Finally, let's use our autoencoders to produce reconstructed images from the MNIST data as we did with PCA."
      ]
    },
    {
      "cell_type": "markdown",
      "metadata": {
        "id": "BxBsfHnf16VG"
      },
      "source": [
        "**13) Use the linear and non-linear AEs to produce reconstructed images. Generate a 3x5 grid of images such that $(i)$ the first row  contains the first 5 images of MNIST data set, $(ii)$ the second row contains their reconstruction using the linear AE, $(iii)$ the third row contains the reconstruction using the nonlinear AE. Comment.**"
      ]
    },
    {
      "cell_type": "code",
      "metadata": {
        "colab": {
          "base_uri": "https://localhost:8080/",
          "height": 605
        },
        "id": "GYGI6YUV6G_6",
        "outputId": "6952c0e5-1688-4b2c-f754-ecbbb9cb3485"
      },
      "source": [
        "xlabels = ['image 1','image 2','image 3','image 4','image 5']\n",
        "ylabels = ['original', 'Linear AE', 'NonLinear AE']\n",
        "fig, axs = plt.subplots(3,5, figsize=(8,10))\n",
        "\n",
        "batch = (next(iter(train_dataloader)))\n",
        "batch_data = batch[0].reshape(32, -1)\n",
        "\n",
        "for i in range(3):\n",
        "    axs[i,0].set_ylabel(ylabels[i], fontsize=16,fontweight='bold')\n",
        "    if i == 1:\n",
        "        images = model(batch_data)\n",
        "        images = images.reshape(-1,28,28)\n",
        "    if i == 2:\n",
        "        images = model2(batch_data)\n",
        "        images = images.reshape(-1,28,28)\n",
        "    for j in range(5):\n",
        "        if i==0:\n",
        "            axs[i,j].set_title(xlabels[j], fontweight='bold')\n",
        "            axs[i,j].imshow(batch_data[j].reshape(28,28), cmap=\"gray\")\n",
        "        else:\n",
        "            axs[i,j].imshow(images[j].detach().numpy(), cmap=\"gray\")\n",
        "        axs[i,j].set_xticks([])\n",
        "        axs[i,j].set_yticks([])\n",
        "fig.tight_layout(pad=0)"
      ],
      "execution_count": null,
      "outputs": [
        {
          "output_type": "display_data",
          "data": {
            "image/png": "[encoded data removed]",
            "text/plain": [
              "<Figure size 576x720 with 15 Axes>"
            ]
          },
          "metadata": {}
        }
      ]
    },
    {
      "cell_type": "markdown",
      "metadata": {
        "id": "g9fLn0_G8FV0"
      },
      "source": [
        "Comments:    \n",
        "We can observe by the above reconstructed images that the results obtained with Linear Autoencoder(with latent space of size 2) are very blurry and all similar to each other. It is impossible to distinguish a digit from those images.\n",
        "\n",
        "However, with Non Linear Autoencoder with same latent space we observe more clear images, from which we can better see what digit is represented. The reconstructed images are more or less similar to the original ones. This is an expected behaviour, since with Non Linear Autoencoder we have introduced depth to both encoder and decoder, as well as included non-linearities. This leads to better reconstructed images, than with Linear Autoencoders."
      ]
    },
    {
      "cell_type": "markdown",
      "metadata": {
        "id": "pBPDmJGt16VH"
      },
      "source": [
        "**14) Retrain the linear and non-linear AEs with `code_size`=15, and plot the reconstructed images as above.**"
      ]
    },
    {
      "cell_type": "code",
      "metadata": {
        "id": "6aHS5kx816VH"
      },
      "source": [
        "train_dataloader = DataLoader(train_data, batch_size=32, shuffle=True)\n",
        "test_dataloader = DataLoader(test_data, batch_size = 32, shuffle=True)"
      ],
      "execution_count": null,
      "outputs": []
    },
    {
      "cell_type": "code",
      "metadata": {
        "id": "iNxsx31u-q4f"
      },
      "source": [
        "model_LIN_15 = LinearAutoencoder(latent_space_size = 15)\n",
        "optimizer_LIN_15 = torch.optim.Adam(model_LIN_15.parameters())\n",
        "loss_fn_LIN_15 = torch.nn.MSELoss()"
      ],
      "execution_count": null,
      "outputs": []
    },
    {
      "cell_type": "code",
      "metadata": {
        "id": "iAveKK9a-zyz"
      },
      "source": [
        "epochs = 5\n",
        "outputs = []\n",
        "losses = []\n",
        "loss_value = 0\n",
        "for epoch in range(0,epochs):\n",
        "    for (images, labels) in train_dataloader:\n",
        "        images = images.reshape(-1,784)\n",
        "        output_images = model_LIN_15(images)\n",
        "        loss = loss_fn_LIN_15(output_images,images)\n",
        "        losses.append(loss)\n",
        "        optimizer_LIN_15.zero_grad()\n",
        "        loss.backward()\n",
        "        optimizer_LIN_15.step()"
      ],
      "execution_count": null,
      "outputs": []
    },
    {
      "cell_type": "code",
      "metadata": {
        "id": "I6FK2cI__VYf"
      },
      "source": [
        "model_NONLIN_15 = NonLinearAutoencoder(latent_space_size = 15)\n",
        "optimizer_NONLIN_15 = torch.optim.Adam(model_NONLIN_15.parameters())\n",
        "loss_fn_NONLIN_15 = torch.nn.MSELoss()"
      ],
      "execution_count": null,
      "outputs": []
    },
    {
      "cell_type": "code",
      "metadata": {
        "id": "TFOavdxo_baL"
      },
      "source": [
        "epochs = 5\n",
        "losses2 = []\n",
        "for epoch in range(epochs):\n",
        "    for (images, labels) in train_dataloader:\n",
        "        images = images.reshape(-1,784)\n",
        "        output_images = model_NONLIN_15(images)\n",
        "        loss = loss_fn_NONLIN_15(output_images,images)\n",
        "        losses2.append(loss)\n",
        "        optimizer_NONLIN_15.zero_grad()\n",
        "        loss.backward()\n",
        "        optimizer_NONLIN_15.step()"
      ],
      "execution_count": null,
      "outputs": []
    },
    {
      "cell_type": "code",
      "metadata": {
        "colab": {
          "base_uri": "https://localhost:8080/",
          "height": 674
        },
        "id": "eWhIUVA__5Pa",
        "outputId": "64de6cc2-b3c1-4e58-a6a6-db1bf1f3e48c"
      },
      "source": [
        "xlabels = ['image 1','image 2','image 3','image 4','image 5']\n",
        "ylabels = ['original', 'Linear AE (n=15)', 'NonLinear AE (n=15)']\n",
        "fig, axs = plt.subplots(3,5, figsize=(8,10))\n",
        "\n",
        "batch = (next(iter(train_dataloader)))\n",
        "batch_data = batch[0].reshape(32, -1)\n",
        "\n",
        "for i in range(3):\n",
        "    axs[i,0].set_ylabel(ylabels[i], fontsize=16,fontweight='bold')\n",
        "    if i == 1:\n",
        "        images = model_LIN_15(batch_data)\n",
        "        images = images.reshape(-1,28,28)\n",
        "    if i == 2:\n",
        "        images = model_NONLIN_15(batch_data)\n",
        "        images = images.reshape(-1,28,28)\n",
        "    for j in range(5):\n",
        "        if i==0:\n",
        "            axs[i,j].set_title(xlabels[j], fontweight='bold')\n",
        "            axs[i,j].imshow(batch_data[j].reshape(28,28), cmap=\"gray\")\n",
        "        else:\n",
        "            axs[i,j].imshow(images[j].detach().numpy(), cmap=\"gray\")\n",
        "        axs[i,j].set_xticks([])\n",
        "        axs[i,j].set_yticks([])\n",
        "fig.tight_layout(pad=0)"
      ],
      "execution_count": null,
      "outputs": [
        {
          "output_type": "display_data",
          "data": {
            "image/png": "[encoded data removed]",
            "text/plain": [
              "<Figure size 576x720 with 15 Axes>"
            ]
          },
          "metadata": {}
        }
      ]
    },
    {
      "cell_type": "markdown",
      "metadata": {
        "id": "aeySQAtyBYyP"
      },
      "source": [
        "Comments:     \n",
        "By increasing the size of latent space we can see improvements in quality of reconstructed images both of Linear and NonLinear Autoencoders. "
      ]
    },
    {
      "cell_type": "code",
      "metadata": {
        "colab": {
          "base_uri": "https://localhost:8080/"
        },
        "id": "dXy_Fm3nQowX",
        "outputId": "d09fbca7-c9a6-4a23-fef6-110c19555b31"
      },
      "source": [
        "%%shell\n",
        "jupyter nbconvert --to html /content/lab6_Irada_Bunyatova.ipynb"
      ],
      "execution_count": null,
      "outputs": [
        {
          "output_type": "stream",
          "name": "stdout",
          "text": [
            "[NbConvertApp] Converting notebook /content/lab6_Irada_Bunyatova.ipynb to html\n",
            "[NbConvertApp] Writing 843897 bytes to /content/lab6_Irada_Bunyatova.html\n"
          ]
        },
        {
          "output_type": "execute_result",
          "data": {
            "text/plain": [
              ""
            ]
          },
          "metadata": {},
          "execution_count": 66
        }
      ]
    }
  ]
}